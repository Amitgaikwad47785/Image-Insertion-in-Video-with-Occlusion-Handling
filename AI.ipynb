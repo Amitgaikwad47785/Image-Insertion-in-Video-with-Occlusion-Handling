{
 "cells": [
  {
   "cell_type": "code",
   "execution_count": 8,
   "id": "4689aac2",
   "metadata": {},
   "outputs": [],
   "source": [
    "import cv2\n",
    "import numpy as np\n",
    "import pandas as pd \n",
    "import matplotlib.pyplot as plt\n",
    "import seaborn as sns"
   ]
  },
  {
   "cell_type": "code",
   "execution_count": 9,
   "id": "335acb7d",
   "metadata": {},
   "outputs": [],
   "source": [
    "def handle_occlusions(frame, advertisement, position):\n",
    "    return frame_with_advertisement"
   ]
  },
  {
   "cell_type": "code",
   "execution_count": 14,
   "id": "195ec7a4",
   "metadata": {},
   "outputs": [],
   "source": [
    "input_video= r\"C:\\Users\\Amit\\OneDrive\\Documents\\Desktop\\input.mp4\"\n",
    "advertisement_img= r\"C:\\Users\\Amit\\OneDrive\\Documents\\Desktop\\image.jpg\"\n",
    "sample_video_mp4= r\"C:\\Users\\Amit\\OneDrive\\Documents\\Desktop\\sample.mp4\""
   ]
  },
  {
   "cell_type": "code",
   "execution_count": 15,
   "id": "0054c323",
   "metadata": {},
   "outputs": [],
   "source": [
    "input_video = cv2.VideoCapture(input_video)\n",
    "advertisement = cv2.imread(advertisement_img)\n",
    "sample_video = cv2.VideoCapture(sample_video_mp4)"
   ]
  },
  {
   "cell_type": "code",
   "execution_count": 16,
   "id": "b925650e",
   "metadata": {},
   "outputs": [],
   "source": [
    "adv_height, adv_width, _ = advertisement.shape"
   ]
  },
  {
   "cell_type": "code",
   "execution_count": 27,
   "id": "a4357d16",
   "metadata": {},
   "outputs": [],
   "source": [
    "output_video_path = input_video\n",
    "fourcc = cv2.VideoWriter_fourcc(*'mp4v')\n",
    "output_video = cv2.VideoWriter(\"input_video\", fourcc, fps, (width, height))"
   ]
  },
  {
   "cell_type": "code",
   "execution_count": 28,
   "id": "8e8ea348",
   "metadata": {},
   "outputs": [],
   "source": [
    "while True:\n",
    "    ret, frame = input_video.read()\n",
    "    if not ret:\n",
    "        break"
   ]
  },
  {
   "cell_type": "code",
   "execution_count": 36,
   "id": "f75715ad",
   "metadata": {},
   "outputs": [
    {
     "ename": "IndentationError",
     "evalue": "expected an indented block (3164811566.py, line 14)",
     "output_type": "error",
     "traceback": [
      "\u001b[1;36m  Input \u001b[1;32mIn [36]\u001b[1;36m\u001b[0m\n\u001b[1;33m    break\u001b[0m\n\u001b[1;37m    ^\u001b[0m\n\u001b[1;31mIndentationError\u001b[0m\u001b[1;31m:\u001b[0m expected an indented block\n"
     ]
    }
   ],
   "source": [
    " if frame is not None:\n",
    "    position = (100, 100)  # Example position for demonstration\n",
    "    frame[position[1]:position[1]+adv_height, position[0]:position[0]+adv_width] = advertisement\n",
    "\n",
    "    # Handle occlusions\n",
    "    frame_with_advertisement = handle_occlusions(frame, advertisement, position)\n",
    "\n",
    "    # Write the frame with the advertisement to the output video\n",
    "    output_video.write(frame_with_advertisement)\n",
    "\n",
    "    # Display the frame (optional)\n",
    "    cv2.imshow(\"Output Frame\", frame_with_advertisement)\n",
    "    if cv2.waitKey(1) & 0xFF == ord('q'):\n",
    "    break\n",
    "    else:\n",
    "        print(\"Error: Failed to read frame from input video.\")\n",
    "\n",
    "# Release resources\n",
    "input_video.release()\n",
    "output_video.release()\n",
    "cv2.destroyAllWindows()"
   ]
  },
  {
   "cell_type": "code",
   "execution_count": null,
   "id": "3c2edea2",
   "metadata": {
    "scrolled": true
   },
   "outputs": [],
   "source": []
  },
  {
   "cell_type": "code",
   "execution_count": null,
   "id": "f53d1371",
   "metadata": {
    "scrolled": true
   },
   "outputs": [],
   "source": [
    "\n",
    "    "
   ]
  },
  {
   "cell_type": "code",
   "execution_count": null,
   "id": "f4641e32",
   "metadata": {},
   "outputs": [],
   "source": []
  },
  {
   "cell_type": "code",
   "execution_count": null,
   "id": "332fc276",
   "metadata": {},
   "outputs": [],
   "source": []
  },
  {
   "cell_type": "code",
   "execution_count": null,
   "id": "e2724e5b",
   "metadata": {},
   "outputs": [],
   "source": []
  }
 ],
 "metadata": {
  "kernelspec": {
   "display_name": "Python 3 (ipykernel)",
   "language": "python",
   "name": "python3"
  },
  "language_info": {
   "codemirror_mode": {
    "name": "ipython",
    "version": 3
   },
   "file_extension": ".py",
   "mimetype": "text/x-python",
   "name": "python",
   "nbconvert_exporter": "python",
   "pygments_lexer": "ipython3",
   "version": "3.9.12"
  }
 },
 "nbformat": 4,
 "nbformat_minor": 5
}
